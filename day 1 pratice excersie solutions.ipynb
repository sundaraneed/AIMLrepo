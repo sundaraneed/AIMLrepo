{
 "cells": [
  {
   "cell_type": "markdown",
   "id": "46dbf86c",
   "metadata": {},
   "source": [
    "# 1.Manipulate using a list.\n",
    "i)To add new elements to the end of the list ii)To reverse elements in the list iii)To display the same list of elements multiple times. iv)To concatenate two list .v)To sort the elements in the list in ascending order\n",
    "\n"
   ]
  },
  {
   "cell_type": "code",
   "execution_count": 199,
   "id": "6e34f593",
   "metadata": {},
   "outputs": [
    {
     "data": {
      "text/plain": [
       "[23, 3, 4]"
      ]
     },
     "execution_count": 199,
     "metadata": {},
     "output_type": "execute_result"
    }
   ],
   "source": [
    "# i) To add new elements to the end of the list\n",
    "num=[23,3,4,]\n",
    "num"
   ]
  },
  {
   "cell_type": "code",
   "execution_count": 200,
   "id": "3e592f61",
   "metadata": {},
   "outputs": [
    {
     "data": {
      "text/plain": [
       "[23, 3, 4, 45]"
      ]
     },
     "execution_count": 200,
     "metadata": {},
     "output_type": "execute_result"
    }
   ],
   "source": [
    "num.append(45)\n",
    "num"
   ]
  },
  {
   "cell_type": "code",
   "execution_count": 6,
   "id": "8e401b55",
   "metadata": {},
   "outputs": [
    {
     "data": {
      "text/plain": [
       "[1, 2, 3]"
      ]
     },
     "execution_count": 6,
     "metadata": {},
     "output_type": "execute_result"
    }
   ],
   "source": [
    "# ii)To reverse elements in the list \n",
    "lst=[1,2,3]\n",
    "lst"
   ]
  },
  {
   "cell_type": "code",
   "execution_count": 210,
   "id": "d6a89b48",
   "metadata": {},
   "outputs": [
    {
     "data": {
      "text/plain": [
       "[6, 5, 4, 3, 2, 1]"
      ]
     },
     "execution_count": 210,
     "metadata": {},
     "output_type": "execute_result"
    }
   ],
   "source": [
    "lst.reverse()\n",
    "lst"
   ]
  },
  {
   "cell_type": "code",
   "execution_count": 11,
   "id": "efebd1d8",
   "metadata": {},
   "outputs": [
    {
     "data": {
      "text/plain": [
       "[1, 2, 3, 1, 2, 3, 1, 2, 3]"
      ]
     },
     "execution_count": 11,
     "metadata": {},
     "output_type": "execute_result"
    }
   ],
   "source": [
    "# iii)To display the same list of elemets multiple times.\n",
    "lst=[1,2,3]\n",
    "lst*3"
   ]
  },
  {
   "cell_type": "code",
   "execution_count": 201,
   "id": "7dc6783b",
   "metadata": {},
   "outputs": [
    {
     "data": {
      "text/plain": [
       "[1, 2, 3, 3, 5, 6]"
      ]
     },
     "execution_count": 201,
     "metadata": {},
     "output_type": "execute_result"
    }
   ],
   "source": [
    "# iv) To concatenate two list \n",
    "list1=[1,2,3]\n",
    "list2=[3,5,6]\n",
    "list = list1 + list2\n",
    "list"
   ]
  },
  {
   "cell_type": "code",
   "execution_count": 118,
   "id": "cac9dc9e",
   "metadata": {},
   "outputs": [
    {
     "data": {
      "text/plain": [
       "[2, 8, 46, 67]"
      ]
     },
     "execution_count": 118,
     "metadata": {},
     "output_type": "execute_result"
    }
   ],
   "source": [
    "#v)To sort the elements in the list in ascending order\n",
    "list=[2,67,8,46]\n",
    "list.sort()\n",
    "list\n"
   ]
  },
  {
   "cell_type": "markdown",
   "id": "063cd84b",
   "metadata": {},
   "source": [
    "# 2.Write a python program to do in the tuples"
   ]
  },
  {
   "cell_type": "code",
   "execution_count": 61,
   "id": "94c09415",
   "metadata": {},
   "outputs": [
    {
     "name": "stdout",
     "output_type": "stream",
     "text": [
      "('india', 'USA', 'london')\n"
     ]
    }
   ],
   "source": [
    "#i)Manipulate using Tuples\n",
    "countries=(\"india\",\"USA\",\"london\")\n",
    "temp = (countries)\n",
    "countries = tuple(temp)\n",
    "print(countries)"
   ]
  },
  {
   "cell_type": "code",
   "execution_count": 70,
   "id": "3bc1a607",
   "metadata": {},
   "outputs": [
    {
     "name": "stdout",
     "output_type": "stream",
     "text": [
      "(1, 3, 5, 9)\n"
     ]
    }
   ],
   "source": [
    "#ii)To add new elements to the end of the tuples\n",
    "tuples = (1,3,5)\n",
    "tuples1 = tuples +(9,)\n",
    "print(tuples1)"
   ]
  },
  {
   "cell_type": "code",
   "execution_count": 215,
   "id": "85f44091",
   "metadata": {},
   "outputs": [
    {
     "data": {
      "text/plain": [
       "[6, 5, 4, 3, 2, 1]"
      ]
     },
     "execution_count": 215,
     "metadata": {},
     "output_type": "execute_result"
    }
   ],
   "source": [
    "# iii)To reverse elements in the list\n",
    "tuple =(1,2,3,4,5,6,)\n",
    "lst.reverse()\n",
    "lst"
   ]
  },
  {
   "cell_type": "code",
   "execution_count": 211,
   "id": "d60c5959",
   "metadata": {},
   "outputs": [
    {
     "data": {
      "text/plain": [
       "(2, 3, 4, 'a', 'b', 2, 3, 4, 'a', 'b')"
      ]
     },
     "execution_count": 211,
     "metadata": {},
     "output_type": "execute_result"
    }
   ],
   "source": [
    "# iv)To display the elements of the same tuple multiple times\n",
    "num = (2,3,4,'a','b')\n",
    "num*2"
   ]
  },
  {
   "cell_type": "code",
   "execution_count": 212,
   "id": "96ba32bd",
   "metadata": {},
   "outputs": [
    {
     "data": {
      "text/plain": [
       "(11, 12, 13, 11, 12, 13)"
      ]
     },
     "execution_count": 212,
     "metadata": {},
     "output_type": "execute_result"
    }
   ],
   "source": [
    "# v)To concatenate two tuples\n",
    "tuple1=(11,12,13)\n",
    "tuple2=(14,15,16)\n",
    "res=tuple1+tuple1\n",
    "res"
   ]
  },
  {
   "cell_type": "code",
   "execution_count": 80,
   "id": "2cf5fef6",
   "metadata": {},
   "outputs": [
    {
     "data": {
      "text/plain": [
       "[2, 8, 46, 67]"
      ]
     },
     "execution_count": 80,
     "metadata": {},
     "output_type": "execute_result"
    }
   ],
   "source": [
    "# vi)To sort elements in the list in ascending order\n",
    "list=[2,67,8,46]\n",
    "list.sort()\n",
    "list\n",
    "\n"
   ]
  },
  {
   "cell_type": "markdown",
   "id": "56c97e58",
   "metadata": {},
   "source": [
    "# 3.Write a python program to implement the following using list"
   ]
  },
  {
   "cell_type": "code",
   "execution_count": 202,
   "id": "daf7777b",
   "metadata": {},
   "outputs": [
    {
     "data": {
      "text/plain": [
       "[1, 2, 3, 4, 5, 6, 7, 8, 9, 10]"
      ]
     },
     "execution_count": 202,
     "metadata": {},
     "output_type": "execute_result"
    }
   ],
   "source": [
    "# i) Create a list with integers (minimum 10 numbers)\n",
    "nums= [1,2,3,4,5,6,7,8,9,10]\n",
    "nums"
   ]
  },
  {
   "cell_type": "code",
   "execution_count": 198,
   "id": "a9ddc1c8",
   "metadata": {},
   "outputs": [
    {
     "data": {
      "text/plain": [
       "10"
      ]
     },
     "execution_count": 198,
     "metadata": {},
     "output_type": "execute_result"
    }
   ],
   "source": [
    "# ii)How to display the last number of the list\n",
    "list_integers[9]\n",
    "\n"
   ]
  },
  {
   "cell_type": "code",
   "execution_count": 112,
   "id": "d7c24f6e",
   "metadata": {},
   "outputs": [
    {
     "data": {
      "text/plain": [
       "[1, 2, 3, 4]"
      ]
     },
     "execution_count": 112,
     "metadata": {},
     "output_type": "execute_result"
    }
   ],
   "source": [
    "# iii)Command for displaying the values from the list [0:4]\n",
    "list_integers[0:4]"
   ]
  },
  {
   "cell_type": "code",
   "execution_count": 114,
   "id": "5adf14ba",
   "metadata": {},
   "outputs": [
    {
     "data": {
      "text/plain": [
       "[3, 4, 5, 6, 7, 8, 9, 10]"
      ]
     },
     "execution_count": 114,
     "metadata": {},
     "output_type": "execute_result"
    }
   ],
   "source": [
    "# iv)Command for displaying the values from list[2:]\n",
    "list_integers[2:]"
   ]
  },
  {
   "cell_type": "code",
   "execution_count": 119,
   "id": "ae321343",
   "metadata": {},
   "outputs": [
    {
     "data": {
      "text/plain": [
       "[1, 2, 3, 4, 5, 6]"
      ]
     },
     "execution_count": 119,
     "metadata": {},
     "output_type": "execute_result"
    }
   ],
   "source": [
    "# v)Command for displaying the values from list [:6]\n",
    "list_integers[:6]\n"
   ]
  },
  {
   "cell_type": "markdown",
   "id": "d4a50196",
   "metadata": {},
   "source": [
    "# 4.Write a python program tuple(10,20,30,40,50)\n"
   ]
  },
  {
   "cell_type": "code",
   "execution_count": 124,
   "id": "3fc86cb6",
   "metadata": {},
   "outputs": [
    {
     "name": "stdout",
     "output_type": "stream",
     "text": [
      "(10, 20, 30, 40, 50)\n"
     ]
    }
   ],
   "source": [
    "# i)To display the elements from tuple\n",
    "tuple1=10,20,30,40,50\n",
    "print(tuple1)"
   ]
  },
  {
   "cell_type": "code",
   "execution_count": 197,
   "id": "011fee88",
   "metadata": {},
   "outputs": [
    {
     "data": {
      "text/plain": [
       "5"
      ]
     },
     "execution_count": 197,
     "metadata": {},
     "output_type": "execute_result"
    }
   ],
   "source": [
    "# ii)To display the length of the tuple\n",
    "len(tuple1)"
   ]
  },
  {
   "cell_type": "code",
   "execution_count": 130,
   "id": "7b59d627",
   "metadata": {},
   "outputs": [
    {
     "name": "stdout",
     "output_type": "stream",
     "text": [
      "10\n"
     ]
    }
   ],
   "source": [
    "# iii)To find the minimum length of the tuple\n",
    "print(min(tuple1))"
   ]
  },
  {
   "cell_type": "code",
   "execution_count": 137,
   "id": "bcfc32cf",
   "metadata": {},
   "outputs": [
    {
     "name": "stdout",
     "output_type": "stream",
     "text": [
      "150\n"
     ]
    }
   ],
   "source": [
    "# iv)How to add all the elements in tuple 1\n",
    "tuple1=(10,20,30,40,50)\n",
    "result=sum(tuple1)\n",
    "print(result)"
   ]
  },
  {
   "cell_type": "code",
   "execution_count": 139,
   "id": "59eb13a1",
   "metadata": {},
   "outputs": [
    {
     "data": {
      "text/plain": [
       "(10, 20, 30, 40, 50, 10, 20, 30, 40, 50)"
      ]
     },
     "execution_count": 139,
     "metadata": {},
     "output_type": "execute_result"
    }
   ],
   "source": [
    "# v)To display same tuple multiply times\n",
    "tuple1=(10,20,30,40,50)\n",
    "tuple1*2"
   ]
  },
  {
   "cell_type": "markdown",
   "id": "93fbbf28",
   "metadata": {},
   "source": [
    "# 5.Write a python program"
   ]
  },
  {
   "cell_type": "code",
   "execution_count": null,
   "id": "7a98e209",
   "metadata": {},
   "outputs": [],
   "source": [
    "# i) To calculate the length of the string\n",
    "str='code'\n",
    "len(str)"
   ]
  },
  {
   "cell_type": "code",
   "execution_count": 209,
   "id": "0951b513",
   "metadata": {},
   "outputs": [
    {
     "data": {
      "text/plain": [
       "'edoc'"
      ]
     },
     "execution_count": 209,
     "metadata": {},
     "output_type": "execute_result"
    }
   ],
   "source": [
    "# ii)To reverse the words in the string\n",
    "name = \"code\"\n",
    "name[::-1]"
   ]
  },
  {
   "cell_type": "code",
   "execution_count": 152,
   "id": "818ee3d7",
   "metadata": {},
   "outputs": [
    {
     "data": {
      "text/plain": [
       "'codecode'"
      ]
     },
     "execution_count": 152,
     "metadata": {},
     "output_type": "execute_result"
    }
   ],
   "source": [
    "# iii)To display the string multiple times\n",
    "str=\"code\"\n",
    "str*2"
   ]
  },
  {
   "cell_type": "code",
   "execution_count": 154,
   "id": "c0dda3da",
   "metadata": {},
   "outputs": [
    {
     "name": "stdout",
     "output_type": "stream",
     "text": [
      "helloworlds\n"
     ]
    }
   ],
   "source": [
    "# iv)To concatenate two strings\n",
    "str1=\"hello\"\n",
    "str2=\"worlds\"\n",
    "str = str1+str2\n",
    "print(str)"
   ]
  },
  {
   "cell_type": "code",
   "execution_count": 160,
   "id": "523a71cd",
   "metadata": {},
   "outputs": [
    {
     "data": {
      "text/plain": [
       "'india'"
      ]
     },
     "execution_count": 160,
     "metadata": {},
     "output_type": "execute_result"
    }
   ],
   "source": [
    "# v) Str1=\"south india\",using string slicing to display india\n",
    "str1=\"south india\"\n",
    "str1[6:]\n"
   ]
  },
  {
   "cell_type": "markdown",
   "id": "9f5f59a3",
   "metadata": {},
   "source": [
    "# 6.Perform the following "
   ]
  },
  {
   "cell_type": "code",
   "execution_count": 163,
   "id": "a7a5992d",
   "metadata": {},
   "outputs": [
    {
     "name": "stdout",
     "output_type": "stream",
     "text": [
      "{'hello', 'welcome', 'world'}\n"
     ]
    }
   ],
   "source": [
    "#i)create the directory\n",
    "Dict={\"hello\",\"world\",\"welcome\"}\n",
    "print(Dict)"
   ]
  },
  {
   "cell_type": "code",
   "execution_count": 170,
   "id": "40d6b04e",
   "metadata": {},
   "outputs": [
    {
     "name": "stdout",
     "output_type": "stream",
     "text": [
      "{1: 'hello', 2: 'world', 3: 'welcome'}\n"
     ]
    }
   ],
   "source": [
    "#ii)access the values in directory\n",
    "Dict={1: 'hello', 2: 'world', 3: 'welcome'}\n",
    "print(Dict)\n"
   ]
  },
  {
   "cell_type": "code",
   "execution_count": 226,
   "id": "667f798a",
   "metadata": {},
   "outputs": [
    {
     "data": {
      "text/plain": [
       "{'h', 'l', 'p'}"
      ]
     },
     "execution_count": 226,
     "metadata": {},
     "output_type": "execute_result"
    }
   ],
   "source": [
    "# iii)delete directory values\n",
    "Data={'h','l','p'}\n",
    "Data"
   ]
  },
  {
   "cell_type": "code",
   "execution_count": null,
   "id": "a6922612",
   "metadata": {},
   "outputs": [],
   "source": []
  },
  {
   "cell_type": "markdown",
   "id": "ed12b168",
   "metadata": {},
   "source": [
    "# 7. Python program to insert a number to any position in a list\n"
   ]
  },
  {
   "cell_type": "code",
   "execution_count": 217,
   "id": "cbf8a102",
   "metadata": {},
   "outputs": [
    {
     "name": "stdout",
     "output_type": "stream",
     "text": [
      "Number 10 inserted at position 2.\n",
      "Updated List: [1, 2, 10, 3, 4, 5]\n"
     ]
    }
   ],
   "source": [
    "my_list = [1, 2, 3, 4, 5]\n",
    "\n",
    "# Number to insert\n",
    "number_to_insert = 10\n",
    "\n",
    "# Position where you want to insert the number (0-based index)\n",
    "position_to_insert = 2\n",
    "\n",
    "# Check if the position is valid\n",
    "if position_to_insert >= 0 and position_to_insert <= len(my_list):\n",
    "    # Insert the number at the specified position\n",
    "    my_list.insert(position_to_insert, number_to_insert)\n",
    "    print(f\"Number {number_to_insert} inserted at position {position_to_insert}.\")\n",
    "else:\n",
    "    print(\"Invalid position.\")\n",
    "\n",
    "# Print the updated list\n",
    "print(\"Updated List:\", my_list)"
   ]
  },
  {
   "cell_type": "markdown",
   "id": "80e872a9",
   "metadata": {},
   "source": [
    "# 8. python program to delete an element from a list by index"
   ]
  },
  {
   "cell_type": "code",
   "execution_count": 219,
   "id": "3f720376",
   "metadata": {},
   "outputs": [
    {
     "name": "stdout",
     "output_type": "stream",
     "text": [
      "Element deleted successfully.\n",
      "[1, 2, 4, 5]\n"
     ]
    }
   ],
   "source": [
    "# Sample list\n",
    "my_list = [1, 2, 3, 4, 5]\n",
    "\n",
    "# Index of the element to delete\n",
    "index_to_delete = 2  # This will delete the element at index 2 (which is 3)\n",
    "\n",
    "# Check if the index is valid\n",
    "if 0 <= index_to_delete < len(my_list):\n",
    "    del my_list[index_to_delete]\n",
    "    print(\"Element deleted successfully.\")\n",
    "else:\n",
    "    print(\"Invalid index.\")\n",
    "\n",
    "# Print the updated list\n",
    "print(my_list)\n"
   ]
  },
  {
   "cell_type": "markdown",
   "id": "23e90735",
   "metadata": {},
   "source": [
    "# 9. Write a program to display a number from 1 to 100"
   ]
  },
  {
   "cell_type": "code",
   "execution_count": 9,
   "id": "b921945a",
   "metadata": {},
   "outputs": [
    {
     "name": "stdout",
     "output_type": "stream",
     "text": [
      "1\n",
      "2\n",
      "3\n",
      "4\n",
      "5\n",
      "6\n",
      "7\n",
      "8\n",
      "9\n",
      "10\n",
      "11\n",
      "12\n",
      "13\n",
      "14\n",
      "15\n",
      "16\n",
      "17\n",
      "18\n",
      "19\n",
      "20\n",
      "21\n",
      "22\n",
      "23\n",
      "24\n",
      "25\n",
      "26\n",
      "27\n",
      "28\n",
      "29\n",
      "30\n",
      "31\n",
      "32\n",
      "33\n",
      "34\n",
      "35\n",
      "36\n",
      "37\n",
      "38\n",
      "39\n",
      "40\n",
      "41\n",
      "42\n",
      "43\n",
      "44\n",
      "45\n",
      "46\n",
      "47\n",
      "48\n",
      "49\n",
      "50\n",
      "51\n",
      "52\n",
      "53\n",
      "54\n",
      "55\n",
      "56\n",
      "57\n",
      "58\n",
      "59\n",
      "60\n",
      "61\n",
      "62\n",
      "63\n",
      "64\n",
      "65\n",
      "66\n",
      "67\n",
      "68\n",
      "69\n",
      "70\n",
      "71\n",
      "72\n",
      "73\n",
      "74\n",
      "75\n",
      "76\n",
      "77\n",
      "78\n",
      "79\n",
      "80\n",
      "81\n",
      "82\n",
      "83\n",
      "84\n",
      "85\n",
      "86\n",
      "87\n",
      "88\n",
      "89\n",
      "90\n",
      "91\n",
      "92\n",
      "93\n",
      "94\n",
      "95\n",
      "96\n",
      "97\n",
      "98\n",
      "99\n",
      "100\n"
     ]
    }
   ],
   "source": [
    "i=1\n",
    "while i<=100:\n",
    "      print(i)\n",
    "      i=i+1\n",
    "\n",
    "   "
   ]
  },
  {
   "cell_type": "markdown",
   "id": "9bad4f3d",
   "metadata": {},
   "source": [
    "# 10. Write a python  program to find the sum of all items in a tuple"
   ]
  },
  {
   "cell_type": "code",
   "execution_count": 10,
   "id": "4e5d88f4",
   "metadata": {},
   "outputs": [
    {
     "name": "stdout",
     "output_type": "stream",
     "text": [
      "Sum of items in the tuple: 15\n"
     ]
    }
   ],
   "source": [
    "# Function to find the sum of all items in a tuple\n",
    "def sum_of_tuple_items(tup):\n",
    "    total = 0\n",
    "    for item in tup:\n",
    "        total += item\n",
    "    return total\n",
    "\n",
    "# Example tuple\n",
    "my_tuple = (1, 2, 3, 4, 5)\n",
    "\n",
    "# Calculate the sum of items in the tuple\n",
    "result = sum_of_tuple_items(my_tuple)\n",
    "\n",
    "# Print the result\n",
    "print(\"Sum of items in the tuple:\", result)\n"
   ]
  }
 ],
 "metadata": {
  "kernelspec": {
   "display_name": "Python 3 (ipykernel)",
   "language": "python",
   "name": "python3"
  },
  "language_info": {
   "codemirror_mode": {
    "name": "ipython",
    "version": 3
   },
   "file_extension": ".py",
   "mimetype": "text/x-python",
   "name": "python",
   "nbconvert_exporter": "python",
   "pygments_lexer": "ipython3",
   "version": "3.11.4"
  }
 },
 "nbformat": 4,
 "nbformat_minor": 5
}
