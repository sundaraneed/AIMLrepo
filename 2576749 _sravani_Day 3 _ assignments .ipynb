{
 "cells": [
  {
   "cell_type": "markdown",
   "id": "0d8331f8",
   "metadata": {},
   "source": [
    "# 1.Write a python function that copies a file reading and writing upto 50 characters at a time "
   ]
  },
  {
   "cell_type": "code",
   "execution_count": 9,
   "id": "97684913",
   "metadata": {},
   "outputs": [
    {
     "name": "stdout",
     "output_type": "stream",
     "text": [
      "File 'source.txt' copied to 'destination.txt' successfully.\n"
     ]
    }
   ],
   "source": [
    "def copy_file(source_path, destination_path):\n",
    "    try:\n",
    "\n",
    "        with open(source_path, 'rb') as source_file:\n",
    "           \n",
    "            with open(destination_path, 'wb') as destination_file:\n",
    "                while True:\n",
    "                    \n",
    "                    data = source_file.read(50)\n",
    "                   \n",
    "                    if not data:\n",
    "                        break\n",
    "                 \n",
    "                    destination_file.write(data)\n",
    "        print(f\"File '{source_path}' copied to '{destination_path}' successfully.\")\n",
    "    except FileNotFoundError:\n",
    "        print(\"File not found.\")\n",
    "    except Exception as e:\n",
    "        print(f\"An error occurred: {str(e)}\")\n",
    "\n",
    "\n",
    "source_file_path = 'source.txt' \n",
    "destination_file_path = 'destination.txt'  \n",
    "copy_file(source_file_path, destination_file_path)\n"
   ]
  },
  {
   "cell_type": "markdown",
   "id": "8123a06d",
   "metadata": {},
   "source": [
    "# 2 Print all the numbers in the text file and print the number of blank spaces in the file"
   ]
  },
  {
   "cell_type": "code",
   "execution_count": 6,
   "id": "fb7e1f86",
   "metadata": {},
   "outputs": [
    {
     "name": "stdout",
     "output_type": "stream",
     "text": [
      "Numbers in the file: 1, 2, 3\n",
      "Number of blank spaces in the file: 18\n"
     ]
    }
   ],
   "source": [
    "import re\n",
    "\n",
    "def extract_numbers_and_count_spaces(file_path):\n",
    "    try:\n",
    "        with open('data.txt', 'r') as file:\n",
    "            text = file.read()\n",
    "            \n",
    "            # Use regular expression to find all numbers in the text\n",
    "            numbers = re.findall(r'\\d+', text)\n",
    "            \n",
    "            # Count the number of blank spaces in the text\n",
    "            blank_space_count = text.count(' ')\n",
    "            \n",
    "            print(f\"Numbers in the file: {', '.join(numbers)}\")\n",
    "            print(f\"Number of blank spaces in the file: {blank_space_count}\")\n",
    "            \n",
    "    except FileNotFoundError:\n",
    "        print(\"File not found.\")\n",
    "    except Exception as e:\n",
    "        print(f\"An error occurred: {str(e)}\")\n",
    "\n",
    "# Example usage:\n",
    "file_path = 'data.txt'  # Replace with the path to your text file\n",
    "extract_numbers_and_count_spaces(file_path)"
   ]
  },
  {
   "cell_type": "markdown",
   "id": "5f1c1e70",
   "metadata": {},
   "source": [
    "# 3.Write a function called sed that takes as arguments a pattern string, a replacement string, and two filenames; it should read the first file and write the contents into the second file (creating it if necessary). If the pattern string appears anywhere in the file, it should be replaced with the replacement string. If an error occurs while opening, reading, writing. or closing files, your program should catch the exception, print an error message, and exit"
   ]
  },
  {
   "cell_type": "code",
   "execution_count": 7,
   "id": "6357eecb",
   "metadata": {},
   "outputs": [],
   "source": [
    "def sed(pattern, replacement, input_file, output_file):\n",
    "    try:\n",
    "        with open(input_file, 'r') as infile:\n",
    "            content = infile.read()\n",
    "        \n",
    "        content = content.replace(pattern, replacement)\n",
    "\n",
    "        with open(output_file, 'w') as outfile:\n",
    "            outfile.write(content)\n",
    "    \n",
    "    except FileNotFoundError:\n",
    "        print(f\"Error: One of the files ({input_file}, {output_file}) not found.\")\n",
    "    except Exception as e:\n",
    "        print(f\"Error: An unexpected error occurred - {str(e)}\")\n",
    "\n",
    "# Example usage:\n",
    "pattern = \"old_string\"\n",
    "replacement = \"new_string\"\n",
    "input_file = \"input.txt\"\n",
    "output_file = \"output.txt\"\n",
    "\n",
    "sed(pattern, replacement, input_file, output_file)\n"
   ]
  },
  {
   "cell_type": "markdown",
   "id": "cc268365",
   "metadata": {},
   "source": [
    "# 4.Log file analysis \n",
    "a. write a python code to read the log file and extract specific information such as most unique uses and most common uses.\n",
    "b.How would you handle large log files efficiently without loading entire memory into it."
   ]
  },
  {
   "cell_type": "code",
   "execution_count": null,
   "id": "2b859159",
   "metadata": {},
   "outputs": [],
   "source": []
  },
  {
   "cell_type": "markdown",
   "id": "a7795732",
   "metadata": {},
   "source": [
    "# 5.TEXT file and search replace:\n",
    "a.Write a python code to search for and replace the text within the file.\n",
    "b.How could you handle cases where you need to perform multiple replacements in a single pass."
   ]
  },
  {
   "cell_type": "code",
   "execution_count": 10,
   "id": "39b15c86",
   "metadata": {},
   "outputs": [
    {
     "name": "stdout",
     "output_type": "stream",
     "text": [
      "Search and replace completed.\n"
     ]
    }
   ],
   "source": [
    "text_file_path = \"destination.txt\"\n",
    "search_string = \"LMIA\"\n",
    "replace_string = \"AIML\"\n",
    "with open(text_file_path, 'r') as file:\n",
    "    file_content = file.read()\n",
    "modified_content = file_content.replace(search_string, replace_string)\n",
    "with open(text_file_path, 'w') as file:\n",
    "    file.write(modified_content)\n",
    "    \n",
    "print(\"Search and replace completed.\")"
   ]
  },
  {
   "cell_type": "code",
   "execution_count": 9,
   "id": "c2d434ff",
   "metadata": {},
   "outputs": [
    {
     "name": "stdout",
     "output_type": "stream",
     "text": [
      "Multiple search and replace completed.\n"
     ]
    }
   ],
   "source": [
    "text_file_path = \"source.txt\"\n",
    "replacement_dict = {\n",
    "    \"old_text1\": \"Artificial Intelligence\",\n",
    "    \"old_text2\": \"LMIA\",\n",
    "}\n",
    "try:\n",
    "    with open(text_file_path, 'r') as file:\n",
    "        file_content = file.read()\n",
    "\n",
    "    # Perform the multiple search and replace operations\n",
    "    for search, replace in replacement_dict.items():\n",
    "        file_content = file_content.replace(search, replace)\n",
    "\n",
    "    # Write the modified content back to the file\n",
    "    with open(text_file_path, 'w') as file:\n",
    "        file.write(file_content)\n",
    "\n",
    "    print(\"Multiple search and replace completed.\")\n",
    "except FileNotFoundError:\n",
    "    print(f\"Text file '{text_file_path}' not found.\")\n",
    "except Exception as e:\n",
    "    print(\"An error occurred:\", str(e))"
   ]
  },
  {
   "cell_type": "markdown",
   "id": "4fee9d1d",
   "metadata": {},
   "source": [
    "# 6.Write a python script that concatenates the content of multiple text files into a single output file .Allow the user to specify the input files and the output files"
   ]
  },
  {
   "cell_type": "code",
   "execution_count": 8,
   "id": "d29df292",
   "metadata": {},
   "outputs": [
    {
     "name": "stdout",
     "output_type": "stream",
     "text": [
      "Enter the path of an input text file (leave empty to finish): \n",
      "No input files specified. Exiting.\n"
     ]
    }
   ],
   "source": [
    "# Function to concatenate text files\n",
    "def concatenate_text_files(input_files, output_file):\n",
    "    try:\n",
    "        # Initialize an empty string to store the concatenated content\n",
    "        concatenated_content = \"\"\n",
    "\n",
    "        # Iterate through the list of input files\n",
    "        for file_path in input_files:\n",
    "            with open('input.txt', 'r') as file:\n",
    "                file_content = file.read()\n",
    "                concatenated_content += file_content\n",
    "\n",
    "        # Write the concatenated content to the output file\n",
    "        with open('output.txt', 'w') as output:\n",
    "            output.write(concatenated_content)\n",
    "\n",
    "        print(\"Concatenation complete. Output written to\", output_file)\n",
    "    except Exception as e:\n",
    "        print(\"An error occurred:\", str(e))\n",
    "\n",
    "# Prompt the user for input file paths and output file path\n",
    "input_files = []\n",
    "while True:\n",
    "    file_path = input(\"Enter the path of an input text file (leave empty to finish): \")\n",
    "    if not file_path:\n",
    "        break\n",
    "    input_files.append(file_path)\n",
    "\n",
    "if not input_files:\n",
    "    print(\"No input files specified. Exiting.\")\n",
    "else:\n",
    "    output_file = input(\"Enter the path of the output text file: \")\n",
    "\n",
    "    # Call the function to concatenate the text files\n",
    "    concatenate_text_files(input_files, output_file)\n"
   ]
  },
  {
   "cell_type": "code",
   "execution_count": null,
   "id": "47b1b416",
   "metadata": {},
   "outputs": [],
   "source": [
    "7.You are given a text file named input.txt containing a list of words, one word per line. Your task is to create a Python program that reads the contents of input.txt, processes the words, and writes the result to an output file named output.txt.\n",
    "\n",
    "a. The program should perform the following operations:\n",
    "\n",
    "i. Read the words from input.txt.\n",
    "\n",
    "ii. For each word in the input file, calculate the length of the word and store it in a dictionary where the word is the key, and the length is the value.\n",
    "\n",
    "iii. Write the word-length dictionary to output.txt in the following format:\n",
    "\n",
    "Word1: Length1\n",
    "\n",
    "Word2: Length2\n",
    "\n",
    "iv. Close both input and output files properly.\n",
    "\n",
    "v. Write Python code to accomplish this task. Ensure proper error handling for file operations.\n",
    "\n",
    "Sample Input('input.txt')\n",
    "\n"
   ]
  },
  {
   "cell_type": "code",
   "execution_count": 5,
   "id": "96282acc",
   "metadata": {},
   "outputs": [
    {
     "name": "stdout",
     "output_type": "stream",
     "text": [
      "Processing completed. Check 'output.txt' for results.\n"
     ]
    }
   ],
   "source": [
    "# Define the input and output file names\n",
    "input_file_name = 'input.txt'\n",
    "output_file_name = 'output.txt'\n",
    "\n",
    "try:\n",
    "    # Step 1: Open input.txt for reading\n",
    "    with open(input_file_name, 'r') as input_file:\n",
    "        word_length_dict = {}  # Step 2: Create an empty dictionary\n",
    "\n",
    "        # Step 3: Loop through each line in the input file\n",
    "        for line in input_file:\n",
    "            word = line.strip()  # Step 4: Strip leading/trailing whitespace\n",
    "            length = len(word)   # Calculate the length of the word\n",
    "\n",
    "            # Step 5: Add the word and its length to the dictionary\n",
    "            word_length_dict[word] = length\n",
    "\n",
    "    # Step 6: Open output.txt for writing\n",
    "    with open(output_file_name, 'w') as output_file:\n",
    "        # Step 7: Write the word-length dictionary to the output file\n",
    "        for word, length in word_length_dict.items():\n",
    "            output_file.write(f\"{word}: {length}\\n\")\n",
    "\n",
    "    print(\"Processing completed. Check 'output.txt' for results.\")\n",
    "\n",
    "except FileNotFoundError:\n",
    "    print(f\"Error: {input_file_name} not found.\")\n",
    "except Exception as e:\n",
    "    print(f\"An error occurred: {str(e)}\")\n"
   ]
  },
  {
   "cell_type": "markdown",
   "id": "efdc7959",
   "metadata": {},
   "source": [
    "# 8.Assume that you are developing a student gradebook system for a school. The system should allow teachers to input student grades for various subjects, store the data in files,\n",
    "\n",
    "and provide students with the ability to view their grades. Design a Python program that accomplishes the following tasks:\n",
    "\n",
    "i. Teachers should be able to input grades for students in different subjects.\n",
    "\n",
    "ii. Store the student grade data in separate text files for each subject.\n",
    "\n",
    "iii. Students should be able to view their grades for each subject.\n",
    "\n",
    "iv. Implement error handling for file operations, such as file not found or permission issues."
   ]
  },
  {
   "cell_type": "code",
   "execution_count": null,
   "id": "76031fce",
   "metadata": {},
   "outputs": [
    {
     "name": "stdout",
     "output_type": "stream",
     "text": [
      "\n",
      "Student Gradebook System\n",
      "1. Input Grades\n",
      "2. View Grades\n",
      "3. Exit\n",
      "Enter your choice (1/2/3): 1\n",
      "Enter the subject: english\n",
      "Enter student name: sri\n",
      "Enter english grade for sri: 2\n",
      "Grade for sri in english has been recorded.\n",
      "\n",
      "Student Gradebook System\n",
      "1. Input Grades\n",
      "2. View Grades\n",
      "3. Exit\n"
     ]
    }
   ],
   "source": [
    "import os\n",
    "\n",
    "# Function to input and store student grades for a subject\n",
    "def input_grades(subject):\n",
    "    try:\n",
    "        file_name = f\"{subject}.txt\"\n",
    "        with open(file_name, \"a\") as file:\n",
    "            student_name = input(\"Enter student name: \")\n",
    "            grade = input(f\"Enter {subject} grade for {student_name}: \")\n",
    "            file.write(f\"{student_name}: {grade}\\n\")\n",
    "        print(f\"Grade for {student_name} in {subject} has been recorded.\")\n",
    "    except IOError as e:\n",
    "        print(f\"Error: {e}\")\n",
    "\n",
    "# Function to view student grades for a subject\n",
    "def view_grades(subject):\n",
    "    try:\n",
    "        file_name = f\"{subject}.txt\"\n",
    "        if not os.path.exists(file_name):\n",
    "            print(f\"No grades recorded for {subject} yet.\")\n",
    "            return\n",
    "\n",
    "        with open(file_name, \"r\") as file:\n",
    "            print(f\"Grades for {subject}:\")\n",
    "            for line in file:\n",
    "                print(line.strip())\n",
    "    except IOError as e:\n",
    "        print(f\"Error: {e}\")\n",
    "\n",
    "# Main program loop\n",
    "while True:\n",
    "    print(\"\\nStudent Gradebook System\")\n",
    "    print(\"1. Input Grades\")\n",
    "    print(\"2. View Grades\")\n",
    "    print(\"3. Exit\")\n",
    "\n",
    "    choice = input(\"Enter your choice (1/2/3): \")\n",
    "\n",
    "    if choice == \"1\":\n",
    "        subject = input(\"Enter the subject: \")\n",
    "        input_grades(subject)\n",
    "    elif choice == \"2\":\n",
    "        subject = input(\"Enter the subject: \")\n",
    "        view_grades(subject)\n",
    "    elif choice == \"3\":\n",
    "        break\n",
    "    else:\n",
    "        print(\"Invalid choice. Please enter 1, 2, or 3.\")\n",
    "\n",
    "print(\"Goodbye!\")\n"
   ]
  }
 ],
 "metadata": {
  "kernelspec": {
   "display_name": "Python 3 (ipykernel)",
   "language": "python",
   "name": "python3"
  },
  "language_info": {
   "codemirror_mode": {
    "name": "ipython",
    "version": 3
   },
   "file_extension": ".py",
   "mimetype": "text/x-python",
   "name": "python",
   "nbconvert_exporter": "python",
   "pygments_lexer": "ipython3",
   "version": "3.11.4"
  }
 },
 "nbformat": 4,
 "nbformat_minor": 5
}
