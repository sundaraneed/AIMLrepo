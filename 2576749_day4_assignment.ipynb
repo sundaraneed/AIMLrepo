{
 "cells": [
  {
   "cell_type": "markdown",
   "id": "ff112eb9",
   "metadata": {},
   "source": [
    "# 1 Write a python program with exception handling to input marks for five subjects physics,chemistry,biology ,mathematics and computer.calcute the percentage and grade according to the following.\n",
    "Percentage >= 90%: 'A+'\n",
    "Percentage >= 80%: 'A'\n",
    "Percentage >= 70%: 'B'\n",
    "Percentage >= 60%: 'C'\n",
    "Percentage >= 50%: 'D'\n",
    "Percentage < 50%: 'F'"
   ]
  },
  {
   "cell_type": "code",
   "execution_count": 5,
   "id": "fcbaa16c",
   "metadata": {},
   "outputs": [
    {
     "name": "stdout",
     "output_type": "stream",
     "text": [
      "Enter Physics marks: 70\n",
      "Enter Chemistry marks: 70\n",
      "Enter Biology marks: 70\n",
      "Enter Mathematics marks: 70\n",
      "Enter Computer marks: 70\n",
      "Total Marks: 350.0\n",
      "Percentage: 70.00%\n",
      "Grade: B\n"
     ]
    }
   ],
   "source": [
    "try:\n",
    "    # Input marks for each subject\n",
    "    physics = float(input(\"Enter Physics marks: \"))\n",
    "    chemistry = float(input(\"Enter Chemistry marks: \"))\n",
    "    biology = float(input(\"Enter Biology marks: \"))\n",
    "    mathematics = float(input(\"Enter Mathematics marks: \"))\n",
    "    computer = float(input(\"Enter Computer marks: \"))\n",
    "\n",
    "    # Calculate total marks and percentage\n",
    "    total_marks = physics + chemistry + biology + mathematics + computer\n",
    "    percentage = (total_marks / 500) * 100\n",
    "\n",
    "    # Determine the grade based on percentage\n",
    "    if percentage >= 90:\n",
    "        grade = 'A+'\n",
    "    elif percentage >= 80:\n",
    "        grade = 'A'\n",
    "    elif percentage >= 70:\n",
    "        grade = 'B'\n",
    "    elif percentage >= 60:\n",
    "        grade = 'C'\n",
    "    elif percentage >= 50:\n",
    "        grade = 'D'\n",
    "    else:\n",
    "        grade = 'F'\n",
    "\n",
    "    # Display the result\n",
    "    print(f\"Total Marks: {total_marks}\")\n",
    "    print(f\"Percentage: {percentage:.2f}%\")\n",
    "    print(f\"Grade: {grade}\")\n",
    "\n",
    "except ValueError:\n",
    "    print(\"Invalid input! Please enter valid numerical marks for each subject.\")\n",
    "except Exception as e:\n",
    "    print(f\"An error occurred: {e}\")\n"
   ]
  },
  {
   "cell_type": "markdown",
   "id": "30a66d88",
   "metadata": {},
   "source": [
    "# 2.Write a python porgram with exception handling to input electricity unit charges and calculate the total electricity bill according to the given condition\n",
    "\n",
    "\n"
   ]
  },
  {
   "cell_type": "code",
   "execution_count": 7,
   "id": "fd8aadd1",
   "metadata": {},
   "outputs": [
    {
     "name": "stdout",
     "output_type": "stream",
     "text": [
      "Enter electricity unit charges: 100\n",
      "Total electricity bill: $62.50\n"
     ]
    }
   ],
   "source": [
    "try:\n",
    "    # Input electricity unit charges\n",
    "    unit_charges = float(input(\"Enter electricity unit charges: \"))\n",
    "\n",
    "    # Check if the unit charges are negative\n",
    "    if unit_charges < 0:\n",
    "        raise ValueError(\"Electricity unit charges cannot be negative.\")\n",
    "\n",
    "    # Define the calculation logic based on given conditions\n",
    "    if unit_charges <= 50:\n",
    "        total_bill = unit_charges * 0.50\n",
    "    elif unit_charges <= 150:\n",
    "        total_bill = 50 * 0.50 + (unit_charges - 50) * 0.75\n",
    "    elif unit_charges <= 250:\n",
    "        total_bill = 50 * 0.50 + 100 * 0.75 + (unit_charges - 150) * 1.20\n",
    "    else:\n",
    "        total_bill = 50 * 0.50 + 100 * 0.75 + 100 * 1.20 + (unit_charges - 250) * 1.50\n",
    "\n",
    "    # Add surcharge if applicable\n",
    "    if total_bill > 300:\n",
    "        surcharge = total_bill * 0.15\n",
    "        total_bill += surcharge\n",
    "\n",
    "    # Display the total electricity bill\n",
    "    print(f\"Total electricity bill: ${total_bill:.2f}\")\n",
    "\n",
    "except ValueError as ve:\n",
    "    print(f\"Error: {ve}\")\n",
    "except Exception as e:\n",
    "    print(f\"An error occurred: {e}\")\n"
   ]
  },
  {
   "cell_type": "markdown",
   "id": "78bd34ec",
   "metadata": {},
   "source": [
    "# 3.Write a python program with exception handling to input the week number and print the weekend."
   ]
  },
  {
   "cell_type": "code",
   "execution_count": 8,
   "id": "2295869f",
   "metadata": {},
   "outputs": [
    {
     "name": "stdout",
     "output_type": "stream",
     "text": [
      "Enter a week number (1-7): 7\n",
      "The weekend for week 7 is Sunday.\n"
     ]
    }
   ],
   "source": [
    "# Define a dictionary to map week numbers to their weekends\n",
    "weekend_dict = {\n",
    "    1: \"Saturday and Sunday\",\n",
    "    2: \"Saturday and Sunday\",\n",
    "    3: \"Saturday and Sunday\",\n",
    "    4: \"Saturday and Sunday\",\n",
    "    5: \"Saturday and Sunday\",\n",
    "    6: \"Saturday\",\n",
    "    7: \"Sunday\",\n",
    "}\n",
    "\n",
    "try:\n",
    "    # Prompt the user to enter a week number\n",
    "    week_number = int(input(\"Enter a week number (1-7): \"))\n",
    "\n",
    "    # Check if the entered week number is valid\n",
    "    if 1 <= week_number <= 7:\n",
    "        # Get the weekend for the given week number from the dictionary\n",
    "        weekend = weekend_dict[week_number]\n",
    "        print(f\"The weekend for week {week_number} is {weekend}.\")\n",
    "    else:\n",
    "        print(\"Invalid week number. Please enter a number between 1 and 7.\")\n",
    "except ValueError:\n",
    "    print(\"Invalid input. Please enter a valid number between 1 and 7.\")\n",
    "except KeyError:\n",
    "    print(\"Week number not found in the dictionary. Please enter a valid number between 1 and 7.\")\n"
   ]
  },
  {
   "cell_type": "markdown",
   "id": "707aae8b",
   "metadata": {},
   "source": [
    "# 4.Write a python program to implement word count using command line arguments"
   ]
  },
  {
   "cell_type": "code",
   "execution_count": null,
   "id": "3e266d0e",
   "metadata": {},
   "outputs": [],
   "source": [
    "import sys\n",
    "import re\n",
    "\n",
    "def word_count(filename):\n",
    "    try:\n",
    "        with open(filename, 'r') as file:\n",
    "            text = file.read()\n",
    "            words = re.findall(r'\\b\\w+\\b', text)\n",
    "            word_count = len(words)\n",
    "            return word_count\n",
    "    except FileNotFoundError:\n",
    "        print(f\"Error: The file '{filename}' was not found.\")\n",
    "        return None\n",
    "\n",
    "def main():\n",
    "    if len(sys.argv) != 2:\n",
    "        print(\"Usage: python word_count.py <filename>\")\n",
    "        sys.exit(1)\n",
    "\n",
    "    filename = sys.argv[1]\n",
    "    count = word_count(filename)\n",
    "\n",
    "    if count is not None:\n",
    "        print(f\"Word count in '{filename}': {count}\")\n",
    "\n",
    "if __name__ == \"__main__\":\n",
    "    main()\n"
   ]
  },
  {
   "cell_type": "markdown",
   "id": "731d0c43",
   "metadata": {},
   "source": [
    "# 5 To find the most frequent words in a text read from a file in Python, you can follow these "
   ]
  },
  {
   "cell_type": "code",
   "execution_count": 9,
   "id": "2075eced",
   "metadata": {},
   "outputs": [
    {
     "name": "stdout",
     "output_type": "stream",
     "text": [
      "Top 10 most frequent words in the text:\n",
      "python: 6\n",
      "in: 4\n",
      "is: 3\n",
      "of: 2\n",
      "which: 2\n",
      "be: 2\n",
      "this: 2\n",
      "tutorial: 2\n",
      "the: 1\n",
      "most: 1\n"
     ]
    }
   ],
   "source": [
    "import re\n",
    "from collections import Counter\n",
    "\n",
    "# Function to read text from a file and tokenize it into words\n",
    "def read_and_tokenize(file_path):\n",
    "    with open(file_path, 'r', encoding='utf-8') as file:\n",
    "        text = file.read()\n",
    "        # Tokenize by splitting on non-alphanumeric characters and converting to lowercase\n",
    "        words = re.findall(r'\\w+', text.lower())\n",
    "    return words\n",
    "\n",
    "# Function to find the most frequent words\n",
    "def most_frequent_words(words, num_words=10):\n",
    "    word_counts = Counter(words)\n",
    "    # Get the most common words\n",
    "    most_common_words = word_counts.most_common(num_words)\n",
    "    return most_common_words\n",
    "\n",
    "# Main program\n",
    "if __name__ == \"__main__\":\n",
    "    file_path = \"file.txt\"  # Replace with the path to your text file\n",
    "    num_words = 10  # Change this to the number of most frequent words you want to find\n",
    "\n",
    "    words = read_and_tokenize(file_path)\n",
    "    most_common_words = most_frequent_words(words, num_words)\n",
    "\n",
    "    print(f\"Top {num_words} most frequent words in the text:\")\n",
    "    for word, count in most_common_words:\n",
    "        print(f\"{word}: {count}\")\n"
   ]
  },
  {
   "cell_type": "markdown",
   "id": "a63885b3",
   "metadata": {},
   "source": [
    "# 6.File processing with command line arguments "
   ]
  },
  {
   "cell_type": "code",
   "execution_count": 4,
   "id": "7d1bae77",
   "metadata": {},
   "outputs": [
    {
     "ename": "NameError",
     "evalue": "name '_name_' is not defined",
     "output_type": "error",
     "traceback": [
      "\u001b[1;31m---------------------------------------------------------------------------\u001b[0m",
      "\u001b[1;31mNameError\u001b[0m                                 Traceback (most recent call last)",
      "Cell \u001b[1;32mIn[4], line 32\u001b[0m\n\u001b[0;32m     29\u001b[0m         \u001b[38;5;28mprint\u001b[39m(\u001b[38;5;124mf\u001b[39m\u001b[38;5;124m\"\u001b[39m\u001b[38;5;124mAn unexpected error occurred: \u001b[39m\u001b[38;5;132;01m{\u001b[39;00me\u001b[38;5;132;01m}\u001b[39;00m\u001b[38;5;124m\"\u001b[39m)\n\u001b[0;32m     30\u001b[0m         sys\u001b[38;5;241m.\u001b[39mexit(\u001b[38;5;241m1\u001b[39m)\n\u001b[1;32m---> 32\u001b[0m \u001b[38;5;28;01mif\u001b[39;00m _name_ \u001b[38;5;241m==\u001b[39m \u001b[38;5;124m\"\u001b[39m\u001b[38;5;124minput.txt\u001b[39m\u001b[38;5;124m\"\u001b[39m:\n\u001b[0;32m     33\u001b[0m     \u001b[38;5;28;01mif\u001b[39;00m \u001b[38;5;28mlen\u001b[39m(sys\u001b[38;5;241m.\u001b[39margv) \u001b[38;5;241m!=\u001b[39m \u001b[38;5;241m3\u001b[39m:\n\u001b[0;32m     34\u001b[0m         \u001b[38;5;28mprint\u001b[39m(\u001b[38;5;124m\"\u001b[39m\u001b[38;5;124mUsage: python program.py input.txt outputtxt\u001b[39m\u001b[38;5;124m\"\u001b[39m)\n",
      "\u001b[1;31mNameError\u001b[0m: name '_name_' is not defined"
     ]
    }
   ],
   "source": [
    "import sys\n",
    "import os\n",
    "\n",
    "def process_files(input_file_path, output_file_path):\n",
    "    try:\n",
    "        # Check if both input and output file paths are provided\n",
    "        if not input_file_path or not output_file_path:\n",
    "            raise ValueError(\"Both input and output file paths are required.\")\n",
    "        \n",
    "        # Check if the input file exists\n",
    "        if not os.path.exists(input_file_path):\n",
    "            raise FileNotFoundError(f\"Input file '{input_file_path}' does not exist.\")\n",
    "\n",
    "        # Read data from the input file and process it\n",
    "        with open(input_file_path, 'r') as input_file, open(output_file_path, 'w') as output_file:\n",
    "            for line in input_file:\n",
    "                # Your processing logic can go here\n",
    "                # For this example, we'll just copy the lines from input to output\n",
    "                output_file.write(line)\n",
    "\n",
    "        print(\"File processing completed successfully.\")\n",
    "    except ValueError as ve:\n",
    "        print(f\"Error: {ve}\")\n",
    "        sys.exit(1)\n",
    "    except FileNotFoundError as fnfe:\n",
    "        print(f\"Error: {fnfe}\")\n",
    "        sys.exit(1)\n",
    "    except Exception as e:\n",
    "        print(f\"An unexpected error occurred: {e}\")\n",
    "        sys.exit(1)\n",
    "\n",
    "if _name_ == \"__main__\":\n",
    "    if len(sys.argv) != 3:\n",
    "        print(\"Usage: python program.py input_file output_file\")\n",
    "        sys.exit(1)\n",
    "\n",
    "    input_file_path = sys.argv[1]\n",
    "    output_file_path = sys.argv[2]\n",
    "\n",
    "    process_files(input.txt, output.txt)"
   ]
  }
 ],
 "metadata": {
  "kernelspec": {
   "display_name": "Python 3 (ipykernel)",
   "language": "python",
   "name": "python3"
  },
  "language_info": {
   "codemirror_mode": {
    "name": "ipython",
    "version": 3
   },
   "file_extension": ".py",
   "mimetype": "text/x-python",
   "name": "python",
   "nbconvert_exporter": "python",
   "pygments_lexer": "ipython3",
   "version": "3.11.4"
  }
 },
 "nbformat": 4,
 "nbformat_minor": 5
}
