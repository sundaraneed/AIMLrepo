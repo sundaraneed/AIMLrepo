{
 "cells": [
  {
   "cell_type": "markdown",
   "id": "b1268690",
   "metadata": {},
   "source": [
    "# 1.Write a python function to list even and odd numbers in a list"
   ]
  },
  {
   "cell_type": "code",
   "execution_count": 14,
   "id": "4548288b",
   "metadata": {},
   "outputs": [
    {
     "name": "stdout",
     "output_type": "stream",
     "text": [
      "38 is an even\n"
     ]
    }
   ],
   "source": [
    "i=38\n",
    "def find_evenodd(i):\n",
    "    if i%2==0:\n",
    "        print(i,\"is an even\")\n",
    "    else:\n",
    "        print(i,\"is an odd\")\n",
    "find_evenodd(i);\n",
    "    "
   ]
  },
  {
   "cell_type": "markdown",
   "id": "985ab3aa",
   "metadata": {},
   "source": [
    "# 2.Write a python program that ask the user to enter 8 integers one at a time and then prints out how many of those integers were even numbers\n"
   ]
  },
  {
   "cell_type": "code",
   "execution_count": 19,
   "id": "84245480",
   "metadata": {},
   "outputs": [
    {
     "ename": "TypeError",
     "evalue": "'list' object cannot be interpreted as an integer",
     "output_type": "error",
     "traceback": [
      "\u001b[1;31m---------------------------------------------------------------------------\u001b[0m",
      "\u001b[1;31mTypeError\u001b[0m                                 Traceback (most recent call last)",
      "Cell \u001b[1;32mIn[19], line 1\u001b[0m\n\u001b[1;32m----> 1\u001b[0m \u001b[38;5;28;01mfor\u001b[39;00m even_numbers \u001b[38;5;129;01min\u001b[39;00m \u001b[38;5;28mrange\u001b[39m([\u001b[38;5;241m1\u001b[39m,\u001b[38;5;241m2\u001b[39m,\u001b[38;5;241m3\u001b[39m,\u001b[38;5;241m4\u001b[39m,\u001b[38;5;241m5\u001b[39m,\u001b[38;5;241m6\u001b[39m,\u001b[38;5;241m7\u001b[39m,\u001b[38;5;241m8\u001b[39m],\u001b[38;5;241m2\u001b[39m):\n\u001b[0;32m      2\u001b[0m     \u001b[38;5;28mprint\u001b[39m(even_numbers,end\u001b[38;5;241m=\u001b[39m\u001b[38;5;124m'\u001b[39m\u001b[38;5;124m \u001b[39m\u001b[38;5;124m'\u001b[39m)\n",
      "\u001b[1;31mTypeError\u001b[0m: 'list' object cannot be interpreted as an integer"
     ]
    }
   ],
   "source": [
    "for even_numbers in range([1,2,3,4,5,6,7,8],2):\n",
    "    print(even_numbers,end=' ')"
   ]
  },
  {
   "cell_type": "markdown",
   "id": "ed3c7c24",
   "metadata": {},
   "source": [
    "# 3.Write a python program where you take any positive integer n ,if n is even divide it by 2 to get n/2,if n is odd multiply it by 3 and add 1 to obtain 3n+1.Repeat the process until the it gets 1"
   ]
  },
  {
   "cell_type": "code",
   "execution_count": 6,
   "id": "5a2ad136",
   "metadata": {},
   "outputs": [
    {
     "name": "stdout",
     "output_type": "stream",
     "text": [
      "Enter a positive integer: 4\n",
      "4 2 1\n"
     ]
    }
   ],
   "source": [
    "def collatz_sequence(n):\n",
    "    while n != 1:\n",
    "        print(n, end=' ')\n",
    "        if n % 2 == 0:\n",
    "            n = n // 2\n",
    "        else:\n",
    "            n = 3 * n + 1\n",
    "    print(1)\n",
    "\n",
    "if __name__ == \"__main__\":\n",
    "    try:\n",
    "        n = int(input(\"Enter a positive integer: \"))\n",
    "        if n <= 0:\n",
    "            print(\"Please enter a positive integer.\")\n",
    "        else:\n",
    "            collatz_sequence(n)\n",
    "    except ValueError:\n",
    "        print(\"Invalid input. Please enter a positive integer.\")\n",
    "\n"
   ]
  },
  {
   "cell_type": "markdown",
   "id": "53c4fcff",
   "metadata": {},
   "source": [
    "# 4.write a python program to compute the sum of all the multiples of 3 or 5 below 500"
   ]
  },
  {
   "cell_type": "code",
   "execution_count": 4,
   "id": "8e2bf276",
   "metadata": {},
   "outputs": [
    {
     "name": "stdout",
     "output_type": "stream",
     "text": [
      "The sum of all multiples of 3 or 5 below 500 is: 57918\n"
     ]
    }
   ],
   "source": [
    "# Initialize a variable to store the sum\n",
    "total_sum = 0\n",
    "\n",
    "# Iterate through numbers from 1 to 499 (below 500)\n",
    "for num in range(1, 500):\n",
    "    # Check if the number is a multiple of 3 or 5\n",
    "    if num % 3 == 0 or num % 5 == 0:\n",
    "        # If it is, add it to the total sum\n",
    "        total_sum += num\n",
    "\n",
    "# Print the total sum\n",
    "print(\"The sum of all multiples of 3 or 5 below 500 is:\", total_sum)\n"
   ]
  },
  {
   "cell_type": "markdown",
   "id": "5b25858e",
   "metadata": {},
   "source": [
    "# 5.write a python program to find first n prime numbers from the list of the given numbers "
   ]
  },
  {
   "cell_type": "code",
   "execution_count": 5,
   "id": "c8e00be6",
   "metadata": {},
   "outputs": [
    {
     "name": "stdout",
     "output_type": "stream",
     "text": [
      "The first 5 prime numbers from the list are: [2, 3, 5, 7, 11]\n"
     ]
    }
   ],
   "source": [
    "def is_prime(num):\n",
    "    if num <= 1:\n",
    "        return False\n",
    "    if num == 2:\n",
    "        return True\n",
    "    if num % 2 == 0:\n",
    "        return False\n",
    "    for i in range(3, int(num**0.5) + 1, 2):\n",
    "        if num % i == 0:\n",
    "            return False\n",
    "    return True\n",
    "\n",
    "def find_first_n_primes(numbers, n):\n",
    "    prime_numbers = []\n",
    "    for num in numbers:\n",
    "        if is_prime(num):\n",
    "            prime_numbers.append(num)\n",
    "            if len(prime_numbers) == n:\n",
    "                break\n",
    "    return prime_numbers\n",
    "\n",
    "# Input: List of numbers and the value of n\n",
    "numbers = [2, 3, 4, 5, 6, 7, 8, 9, 10, 11]  # Replace this list with your own numbers\n",
    "n = 5  # Replace with the desired value of n\n",
    "\n",
    "prime_numbers = find_first_n_primes(numbers, n)\n",
    "print(f\"The first {n} prime numbers from the list are: {prime_numbers}\")\n"
   ]
  },
  {
   "cell_type": "markdown",
   "id": "475c85b9",
   "metadata": {},
   "source": [
    "# 7.Write a python function to coount the number of vowels in the string"
   ]
  },
  {
   "cell_type": "code",
   "execution_count": 10,
   "id": "fc08d1e3",
   "metadata": {},
   "outputs": [
    {
     "name": "stdout",
     "output_type": "stream",
     "text": [
      "Number of vowels: 3\n"
     ]
    }
   ],
   "source": [
    "def count_vowels(s):\n",
    "    s = s.lower()\n",
    "    vowels = set(\"aeiou\")\n",
    "    count = 0\n",
    "    for char in s:\n",
    "        if char in vowels:\n",
    "            count += 1\n",
    "    \n",
    "    return count\n",
    "\n",
    "input_string = \"Hello, World!\"\n",
    "result = count_vowels(input_string)\n",
    "print(\"Number of vowels:\", result)\n"
   ]
  },
  {
   "cell_type": "markdown",
   "id": "8d917253",
   "metadata": {},
   "source": [
    "# 8.write a python program to find the factorial of the given number using a recursive function"
   ]
  },
  {
   "cell_type": "code",
   "execution_count": 12,
   "id": "86aff255",
   "metadata": {},
   "outputs": [
    {
     "name": "stdout",
     "output_type": "stream",
     "text": [
      "Enter a non-negative integer: 5\n",
      "The factorial of 5 is 120\n"
     ]
    }
   ],
   "source": [
    "def factorial(n):\n",
    "    # Base case: if n is 0 or 1, the factorial is 1\n",
    "    if n == 0 or n == 1:\n",
    "        return 1\n",
    "    # Recursive case: multiply n by the factorial of (n-1)\n",
    "    else:\n",
    "        return n * factorial(n - 1)\n",
    "\n",
    "# Input from the user\n",
    "try:\n",
    "    num = int(input(\"Enter a non-negative integer: \"))\n",
    "    if num < 0:\n",
    "        print(\"Factorial is not defined for negative numbers.\")\n",
    "    else:\n",
    "        result = factorial(num)\n",
    "        print(f\"The factorial of {num} is {result}\")\n",
    "except ValueError:\n",
    "    print(\"Invalid input. Please enter a non-negative integer.\")\n"
   ]
  },
  {
   "cell_type": "markdown",
   "id": "fb5bd2a1",
   "metadata": {},
   "source": [
    "# 9.write a python function for generating the fibonacci series using the function"
   ]
  },
  {
   "cell_type": "code",
   "execution_count": 16,
   "id": "bcbb287c",
   "metadata": {},
   "outputs": [
    {
     "name": "stdout",
     "output_type": "stream",
     "text": [
      "[0, 1, 1, 2, 3, 5, 8, 13, 21, 34]\n"
     ]
    }
   ],
   "source": [
    "def generate_fibonacci_series(n):\n",
    "    fibonacci_series = []\n",
    "    a, b = 0, 1\n",
    "    for _ in range(n):\n",
    "        fibonacci_series.append(a)\n",
    "        a, b = b, a + b\n",
    "    return fibonacci_series\n",
    "n = 10  # Replace with the desired length of the Fibonacci series\n",
    "fibonacci_series = generate_fibonacci_series(n)\n",
    "print(fibonacci_series)\n",
    "\n"
   ]
  },
  {
   "cell_type": "markdown",
   "id": "0e1a5698",
   "metadata": {},
   "source": [
    "# 10.write a python function to display the given integers in reverse order using the function without an inbuilt function"
   ]
  },
  {
   "cell_type": "code",
   "execution_count": 12,
   "id": "9579ad98",
   "metadata": {},
   "outputs": [
    {
     "name": "stdout",
     "output_type": "stream",
     "text": [
      "5\n",
      "4\n",
      "3\n",
      "2\n",
      "1\n"
     ]
    }
   ],
   "source": [
    "def display_reverse(numbers):\n",
    "    for i in range(len(numbers) - 1, -1, -1):\n",
    "        print(numbers[i])\n",
    "\n",
    "# Example usage:\n",
    "numbers = [1, 2, 3, 4, 5]\n",
    "display_reverse(numbers)\n"
   ]
  },
  {
   "cell_type": "markdown",
   "id": "e830c38d",
   "metadata": {},
   "source": [
    "# 11.write a python function to display all integers within the range 200-300 whose sum of the digits is an even number"
   ]
  },
  {
   "cell_type": "code",
   "execution_count": null,
   "id": "0b5520b7",
   "metadata": {},
   "outputs": [],
   "source": []
  },
  {
   "cell_type": "code",
   "execution_count": 5,
   "id": "a0a5d4e7",
   "metadata": {},
   "outputs": [
    {
     "name": "stdout",
     "output_type": "stream",
     "text": [
      "200\n",
      "202\n",
      "204\n",
      "206\n",
      "208\n",
      "211\n",
      "213\n",
      "215\n",
      "217\n",
      "219\n",
      "220\n",
      "222\n",
      "224\n",
      "226\n",
      "228\n",
      "231\n",
      "233\n",
      "235\n",
      "237\n",
      "239\n",
      "240\n",
      "242\n",
      "244\n",
      "246\n",
      "248\n",
      "251\n",
      "253\n",
      "255\n",
      "257\n",
      "259\n",
      "260\n",
      "262\n",
      "264\n",
      "266\n",
      "268\n",
      "271\n",
      "273\n",
      "275\n",
      "277\n",
      "279\n",
      "280\n",
      "282\n",
      "284\n",
      "286\n",
      "288\n",
      "291\n",
      "293\n",
      "295\n",
      "297\n",
      "299\n"
     ]
    }
   ],
   "source": [
    "def sum_of_digits_is_even(num):\n",
    "    # Function to check if the sum of digits is even\n",
    "    digit_sum = sum(int(digit) for digit in str(num))\n",
    "    return digit_sum % 2 == 0\n",
    "\n",
    "def display_integers_with_even_digit_sum(start, end):\n",
    "    # Display integers within the given range whose digit sum is even\n",
    "    for num in range(start, end + 1):\n",
    "        if sum_of_digits_is_even(num):\n",
    "            print(num)\n",
    "\n",
    "# Call the function for the range 200-300\n",
    "display_integers_with_even_digit_sum(200, 300)\n"
   ]
  },
  {
   "cell_type": "markdown",
   "id": "00125635",
   "metadata": {},
   "source": [
    "# 12.write a python function to find the number of digits and sum of digits for given integer"
   ]
  },
  {
   "cell_type": "code",
   "execution_count": 30,
   "id": "7b895045",
   "metadata": {},
   "outputs": [
    {
     "name": "stdout",
     "output_type": "stream",
     "text": [
      "Number of digits in 12345: 5\n",
      "Sum of digits in 12345: 15\n"
     ]
    }
   ],
   "source": [
    "def count_digits_and_sum(integer):\n",
    "    # Initialize variables to store the count and sum of digits\n",
    "    digit_count = 0\n",
    "    digit_sum = 0\n",
    "\n",
    "    # Convert the integer to its absolute value to handle negative numbers\n",
    "    integer = abs(integer)\n",
    "\n",
    "    # Loop through each digit in the integer\n",
    "    while integer > 0:\n",
    "        # Extract the last digit\n",
    "        digit = integer % 10\n",
    "\n",
    "        # Update the count and sum of digits\n",
    "        digit_count += 1\n",
    "        digit_sum += digit\n",
    "\n",
    "        # Remove the last digit from the integer\n",
    "        integer //= 10\n",
    "\n",
    "    # Return the count and sum of digits\n",
    "    return digit_count, digit_sum\n",
    "\n",
    "# Example usage:\n",
    "number = 12345\n",
    "count, total = count_digits_and_sum(number)\n",
    "print(f\"Number of digits in {number}: {count}\")\n",
    "print(f\"Sum of digits in {number}: {total}\")\n"
   ]
  },
  {
   "cell_type": "markdown",
   "id": "e3f1e80c",
   "metadata": {},
   "source": [
    "# 13.Write a function called its _sorted that takes a list as a parameter and returns True if the list is sorted in ascending order and False otherwise has duplicates that takes a list and returns True if there is an element that appears more than once .It should not modify the orginal list "
   ]
  },
  {
   "cell_type": "code",
   "execution_count": 33,
   "id": "f333437a",
   "metadata": {},
   "outputs": [
    {
     "name": "stdout",
     "output_type": "stream",
     "text": [
      "True\n",
      "False\n",
      "True\n"
     ]
    }
   ],
   "source": [
    "def is_sorted(lst):\n",
    "    return all(lst[i]<=lst[i+1]for i in range(len(lst)-1))\n",
    "def has_duplicates(lst):\n",
    "    seen=set()\n",
    "    for iteam in lst:\n",
    "        if iteam in seen:\n",
    "            return True\n",
    "        seen.add(iteam)\n",
    "    return False\n",
    "lst=[5,6,7,8,9]\n",
    "print(is_sorted(lst))\n",
    "lst=[8,1,6,2,5]\n",
    "print(is_sorted(lst))\n",
    "lst=[1,5,5,10,6]\n",
    "print(has_duplicates(lst))\n",
    "    "
   ]
  },
  {
   "cell_type": "markdown",
   "id": "36b84819",
   "metadata": {},
   "source": [
    "# 14.Write the functions called nested_sum that takes a list of integers and adds up the element from all the nested list and cumsum that takes a list of numbers and returns the cumulative sum ;that is where the new list where ith element is the sum of the first i+1 elements from the original list"
   ]
  },
  {
   "cell_type": "code",
   "execution_count": 34,
   "id": "8f500918",
   "metadata": {},
   "outputs": [
    {
     "name": "stdout",
     "output_type": "stream",
     "text": [
      "Nested Sum: 45\n",
      "Cumulative Sum: [1, 3, 6, 10, 15]\n"
     ]
    }
   ],
   "source": [
    "def nested_sum(lst):\n",
    "    total = 0\n",
    "    for sublist in lst:\n",
    "        total += sum(sublist)\n",
    "    return total\n",
    "\n",
    "def cumsum(lst):\n",
    "    cumulative_sum = 0\n",
    "    result = []\n",
    "    for num in lst:\n",
    "        cumulative_sum += num\n",
    "        result.append(cumulative_sum)\n",
    "    return result\n",
    "\n",
    "# Example usage:\n",
    "nested_list = [[1, 2, 3], [4, 5, 6], [7, 8, 9]]\n",
    "cumulative_list = [1, 2, 3, 4, 5]\n",
    "print(\"Nested Sum:\", nested_sum(nested_list))\n",
    "print(\"Cumulative Sum:\", cumsum(cumulative_list))\n"
   ]
  }
 ],
 "metadata": {
  "kernelspec": {
   "display_name": "Python 3 (ipykernel)",
   "language": "python",
   "name": "python3"
  },
  "language_info": {
   "codemirror_mode": {
    "name": "ipython",
    "version": 3
   },
   "file_extension": ".py",
   "mimetype": "text/x-python",
   "name": "python",
   "nbconvert_exporter": "python",
   "pygments_lexer": "ipython3",
   "version": "3.11.4"
  }
 },
 "nbformat": 4,
 "nbformat_minor": 5
}
